{
  "nbformat": 4,
  "nbformat_minor": 0,
  "metadata": {
    "colab": {
      "provenance": [],
      "gpuType": "T4",
      "authorship_tag": "ABX9TyNzSpryjI1IraAW+S91Vzm7",
      "include_colab_link": true
    },
    "kernelspec": {
      "name": "python3",
      "display_name": "Python 3"
    },
    "language_info": {
      "name": "python"
    },
    "accelerator": "GPU"
  },
  "cells": [
    {
      "cell_type": "markdown",
      "metadata": {
        "id": "view-in-github",
        "colab_type": "text"
      },
      "source": [
        "<a href=\"https://colab.research.google.com/github/chanakatb/pytorch_deep_learning/blob/main/Create_CNN.ipynb\" target=\"_parent\"><img src=\"https://colab.research.google.com/assets/colab-badge.svg\" alt=\"Open In Colab\"/></a>"
      ]
    },
    {
      "cell_type": "markdown",
      "source": [
        "## **Deep Learning with PyTorch 10**"
      ],
      "metadata": {
        "id": "xGtXh6qCFieS"
      }
    },
    {
      "cell_type": "markdown",
      "source": [
        "**Convolutional Neural Network Intro**"
      ],
      "metadata": {
        "id": "E7T-0rXxFf0a"
      }
    }
  ]
}