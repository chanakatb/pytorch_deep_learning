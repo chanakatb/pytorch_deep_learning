{
  "nbformat": 4,
  "nbformat_minor": 0,
  "metadata": {
    "colab": {
      "provenance": [],
      "gpuType": "T4",
      "authorship_tag": "ABX9TyOVNu6yRNtYDBlMt9I2ia8W",
      "include_colab_link": true
    },
    "kernelspec": {
      "name": "python3",
      "display_name": "Python 3"
    },
    "language_info": {
      "name": "python"
    },
    "accelerator": "GPU"
  },
  "cells": [
    {
      "cell_type": "markdown",
      "metadata": {
        "id": "view-in-github",
        "colab_type": "text"
      },
      "source": [
        "<a href=\"https://colab.research.google.com/github/chanakatb/pytorch_deep_learning/blob/main/Create_CNN.ipynb\" target=\"_parent\"><img src=\"https://colab.research.google.com/assets/colab-badge.svg\" alt=\"Open In Colab\"/></a>"
      ]
    },
    {
      "cell_type": "markdown",
      "source": [
        "## **Deep Learning with PyTorch 10**"
      ],
      "metadata": {
        "id": "xGtXh6qCFieS"
      }
    },
    {
      "cell_type": "markdown",
      "source": [
        "**Convolutional Neural Network Intro**"
      ],
      "metadata": {
        "id": "E7T-0rXxFf0a"
      }
    },
    {
      "cell_type": "markdown",
      "source": [
        "*minist dats set*: *https://www.tensorflow.org/datasets/catalog/mnist*\n",
        "\n",
        "Training data set includes 60k images and test data set includes 10k images."
      ],
      "metadata": {
        "id": "nRZ4JRubDbFo"
      }
    },
    {
      "cell_type": "markdown",
      "source": [
        "## **Deep Learning with PyTorch 11**"
      ],
      "metadata": {
        "id": "_iazrJ9YEhJl"
      }
    },
    {
      "cell_type": "markdown",
      "source": [
        "**Image Filter / Image Kernel Overview**"
      ],
      "metadata": {
        "id": "iSmkgc_oEkF9"
      }
    },
    {
      "cell_type": "markdown",
      "source": [
        "*Website for image filters (image Kernels): https://setosa.io/ev/image-kernels/*"
      ],
      "metadata": {
        "id": "RN7JYSboHeAC"
      }
    },
    {
      "cell_type": "markdown",
      "source": [
        "## **Deep Learning with PyTorch 12**"
      ],
      "metadata": {
        "id": "koPgs0NwIbtD"
      }
    },
    {
      "cell_type": "markdown",
      "source": [
        "**Convolutional Layer and RGB**"
      ],
      "metadata": {
        "id": "_9K4Ct2uIgjs"
      }
    },
    {
      "cell_type": "markdown",
      "source": [
        "In CNN, neurons are not fully connected and are locally connected."
      ],
      "metadata": {
        "id": "mhXaupjbL5J4"
      }
    },
    {
      "cell_type": "markdown",
      "source": [
        "A typical CNN: https://editor.analyticsvidhya.com/uploads/59954intro%20to%20CNN.JPG"
      ],
      "metadata": {
        "id": "GVo9IR7ZItbK"
      }
    },
    {
      "cell_type": "markdown",
      "source": [
        "## **Deep Learning with PyTorch 13**"
      ],
      "metadata": {
        "id": "Lx58ehmpL6-z"
      }
    },
    {
      "cell_type": "markdown",
      "source": [
        "**Pooling Layer in Convolutional Neural Network**"
      ],
      "metadata": {
        "id": "Fra855vyL9TM"
      }
    },
    {
      "cell_type": "code",
      "source": [],
      "metadata": {
        "id": "R1nT5q7HMGng"
      },
      "execution_count": null,
      "outputs": []
    }
  ]
}