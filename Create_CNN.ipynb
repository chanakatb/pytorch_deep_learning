{
  "nbformat": 4,
  "nbformat_minor": 0,
  "metadata": {
    "colab": {
      "provenance": [],
      "collapsed_sections": [
        "xGtXh6qCFieS",
        "_iazrJ9YEhJl",
        "koPgs0NwIbtD",
        "Lx58ehmpL6-z",
        "mi89CZ6VjIOB"
      ],
      "gpuType": "T4",
      "authorship_tag": "ABX9TyP0GtYeu5BjupIftrzNjgeP",
      "include_colab_link": true
    },
    "kernelspec": {
      "name": "python3",
      "display_name": "Python 3"
    },
    "language_info": {
      "name": "python"
    },
    "accelerator": "GPU"
  },
  "cells": [
    {
      "cell_type": "markdown",
      "metadata": {
        "id": "view-in-github",
        "colab_type": "text"
      },
      "source": [
        "<a href=\"https://colab.research.google.com/github/chanakatb/pytorch_deep_learning/blob/main/Create_CNN.ipynb\" target=\"_parent\"><img src=\"https://colab.research.google.com/assets/colab-badge.svg\" alt=\"Open In Colab\"/></a>"
      ]
    },
    {
      "cell_type": "markdown",
      "source": [
        "## **Deep Learning with PyTorch 10**"
      ],
      "metadata": {
        "id": "xGtXh6qCFieS"
      }
    },
    {
      "cell_type": "markdown",
      "source": [
        "**Convolutional Neural Network Intro**"
      ],
      "metadata": {
        "id": "E7T-0rXxFf0a"
      }
    },
    {
      "cell_type": "markdown",
      "source": [
        "*minist dats set*: *https://www.tensorflow.org/datasets/catalog/mnist*\n",
        "\n",
        "Training data set includes 60k images and test data set includes 10k images."
      ],
      "metadata": {
        "id": "nRZ4JRubDbFo"
      }
    },
    {
      "cell_type": "markdown",
      "source": [
        "## **Deep Learning with PyTorch 11**"
      ],
      "metadata": {
        "id": "_iazrJ9YEhJl"
      }
    },
    {
      "cell_type": "markdown",
      "source": [
        "**Image Filter / Image Kernel Overview**"
      ],
      "metadata": {
        "id": "iSmkgc_oEkF9"
      }
    },
    {
      "cell_type": "markdown",
      "source": [
        "*Website for image filters (image Kernels): https://setosa.io/ev/image-kernels/*"
      ],
      "metadata": {
        "id": "RN7JYSboHeAC"
      }
    },
    {
      "cell_type": "markdown",
      "source": [
        "## **Deep Learning with PyTorch 12**"
      ],
      "metadata": {
        "id": "koPgs0NwIbtD"
      }
    },
    {
      "cell_type": "markdown",
      "source": [
        "**Convolutional Layer and RGB**"
      ],
      "metadata": {
        "id": "_9K4Ct2uIgjs"
      }
    },
    {
      "cell_type": "markdown",
      "source": [
        "In CNN, neurons are not fully connected and are locally connected.\n",
        "Pooling layer reduces the number of parameters that need to be trained."
      ],
      "metadata": {
        "id": "mhXaupjbL5J4"
      }
    },
    {
      "cell_type": "markdown",
      "source": [
        "A typical CNN architecture: https://editor.analyticsvidhya.com/uploads/59954intro%20to%20CNN.JPG"
      ],
      "metadata": {
        "id": "GVo9IR7ZItbK"
      }
    },
    {
      "cell_type": "markdown",
      "source": [
        "## **Deep Learning with PyTorch 13**"
      ],
      "metadata": {
        "id": "Lx58ehmpL6-z"
      }
    },
    {
      "cell_type": "markdown",
      "source": [
        "A typical pooling layer: https://media.geeksforgeeks.org/wp-content/uploads/20190721025744/Screenshot-2019-07-21-at-2.57.13-AM.png"
      ],
      "metadata": {
        "id": "j0ugGpZHhsBK"
      }
    },
    {
      "cell_type": "markdown",
      "source": [
        "**Pooling Layer in Convolutional Neural Network**"
      ],
      "metadata": {
        "id": "Fra855vyL9TM"
      }
    },
    {
      "cell_type": "markdown",
      "source": [
        "## **Deep Learning with PyTorch 14**"
      ],
      "metadata": {
        "id": "mi89CZ6VjIOB"
      }
    },
    {
      "cell_type": "markdown",
      "source": [
        "**Import MNIST Images**"
      ],
      "metadata": {
        "id": "gQ3OlZ3tjVc9"
      }
    },
    {
      "cell_type": "code",
      "source": [
        "import torch\n",
        "import torch.nn as nn\n",
        "import torch.nn.functional as F\n",
        "from torch.utils.data import DataLoader\n",
        "from torchvision import datasets, transforms\n",
        "from torchvision.utils import make_grid\n",
        "\n",
        "import numpy as np\n",
        "import pandas as pd\n",
        "from sklearn.metrics import confusion_matrix\n",
        "import matplotlib as plt\n",
        "%matplotlib inline"
      ],
      "metadata": {
        "id": "VoOR3YfPjXI7"
      },
      "execution_count": 54,
      "outputs": []
    },
    {
      "cell_type": "code",
      "source": [
        "# Convert MNIST Image files into a Tensor of 4-dimensions (# of images, Height, Width, Color channels)\n",
        "transform = transforms.ToTensor()"
      ],
      "metadata": {
        "id": "62J4Y5MjmsUc"
      },
      "execution_count": 55,
      "outputs": []
    },
    {
      "cell_type": "code",
      "source": [
        "# Train Data\n",
        "train_data = datasets.MNIST(root='/cnn_data', train=True, download=True, transform=transform)"
      ],
      "metadata": {
        "id": "yNT_iLrEnXvm"
      },
      "execution_count": 56,
      "outputs": []
    },
    {
      "cell_type": "code",
      "source": [
        "# Test Data\n",
        "test_data = datasets.MNIST(root='/cnn_data', train=False, download=True, transform=transform)"
      ],
      "metadata": {
        "id": "IECy74uUn3Np"
      },
      "execution_count": 57,
      "outputs": []
    },
    {
      "cell_type": "code",
      "source": [
        "train_data"
      ],
      "metadata": {
        "colab": {
          "base_uri": "https://localhost:8080/"
        },
        "id": "jFKaFlnTn_GN",
        "outputId": "8c5aa502-32ed-43fc-e134-679fbd4ccf52"
      },
      "execution_count": 58,
      "outputs": [
        {
          "output_type": "execute_result",
          "data": {
            "text/plain": [
              "Dataset MNIST\n",
              "    Number of datapoints: 60000\n",
              "    Root location: /cnn_data\n",
              "    Split: Train\n",
              "    StandardTransform\n",
              "Transform: ToTensor()"
            ]
          },
          "metadata": {},
          "execution_count": 58
        }
      ]
    },
    {
      "cell_type": "code",
      "source": [
        "test_data"
      ],
      "metadata": {
        "colab": {
          "base_uri": "https://localhost:8080/"
        },
        "id": "Hv_EUatCoA5y",
        "outputId": "2b94a545-805e-4a75-bc44-671302073f81"
      },
      "execution_count": 59,
      "outputs": [
        {
          "output_type": "execute_result",
          "data": {
            "text/plain": [
              "Dataset MNIST\n",
              "    Number of datapoints: 10000\n",
              "    Root location: /cnn_data\n",
              "    Split: Test\n",
              "    StandardTransform\n",
              "Transform: ToTensor()"
            ]
          },
          "metadata": {},
          "execution_count": 59
        }
      ]
    },
    {
      "cell_type": "markdown",
      "source": [
        "## **Deep Learning with PyTorch 15**"
      ],
      "metadata": {
        "id": "PGXGHphPpDLr"
      }
    },
    {
      "cell_type": "markdown",
      "source": [
        "**Convolutional and Pooling Layers**"
      ],
      "metadata": {
        "id": "UbAfGDFgpObM"
      }
    },
    {
      "cell_type": "code",
      "source": [
        "# Create a small batch size for images ... let's say 10\n",
        "train_loader = DataLoader(train_data, batch_size=10, shuffle=True)\n",
        "test_loader = DataLoader(test_data, batch_size=10, shuffle=False)"
      ],
      "metadata": {
        "id": "lZLUjDr_pC21"
      },
      "execution_count": 60,
      "outputs": []
    },
    {
      "cell_type": "code",
      "source": [
        "# Define our CNN\n",
        "# Describe convolution layer and what it is doing (2 convolution layers)\n",
        "# This is just an example in the next video we will build out actual model\n",
        "conv1 = nn.Conv2d(1, 6, 3, 1) # 1 - input image, 6 - filters/ kernels, 3 - filter size/ (kernel size), 1 - stride\n",
        "conv2 = nn.Conv2d(6, 16, 3, 1) # 6 - input image, 16 - filters/ kernels, 3 - filter size/ (kernel size), 1 - stride"
      ],
      "metadata": {
        "id": "heN6boSyqBRs"
      },
      "execution_count": 61,
      "outputs": []
    },
    {
      "cell_type": "code",
      "source": [
        "# Grab 1 MNIST image\n",
        "for i, (X_Train, y_train) in enumerate(train_data):\n",
        "  break"
      ],
      "metadata": {
        "id": "e0EZbajerBfS"
      },
      "execution_count": 62,
      "outputs": []
    },
    {
      "cell_type": "code",
      "source": [
        "X_Train.shape"
      ],
      "metadata": {
        "colab": {
          "base_uri": "https://localhost:8080/"
        },
        "id": "nZZezdvvrPBB",
        "outputId": "5e660518-af6b-44fd-f5b6-80747ca61d15"
      },
      "execution_count": 63,
      "outputs": [
        {
          "output_type": "execute_result",
          "data": {
            "text/plain": [
              "torch.Size([1, 28, 28])"
            ]
          },
          "metadata": {},
          "execution_count": 63
        }
      ]
    },
    {
      "cell_type": "code",
      "source": [
        "x = X_Train.view(1,1,28,28) # 1 -no of batches, 1 - no of images, 28 - height, 28 - width"
      ],
      "metadata": {
        "id": "O7hSVd_WrYW5"
      },
      "execution_count": 64,
      "outputs": []
    },
    {
      "cell_type": "code",
      "source": [
        "# Perform our first convolution\n",
        "x = F.relu(conv1(x)) # Rectified Linear unit for our activation funciton"
      ],
      "metadata": {
        "id": "6HUXQfHyrsbc"
      },
      "execution_count": 65,
      "outputs": []
    },
    {
      "cell_type": "code",
      "source": [
        "# 1 - single image, 6 - filters, 26x26 - images size\n",
        "x.shape"
      ],
      "metadata": {
        "colab": {
          "base_uri": "https://localhost:8080/"
        },
        "id": "0yUL7Nw-r7XC",
        "outputId": "4abac7ed-b7d8-4fce-be04-f8818eb7879c"
      },
      "execution_count": 66,
      "outputs": [
        {
          "output_type": "execute_result",
          "data": {
            "text/plain": [
              "torch.Size([1, 6, 26, 26])"
            ]
          },
          "metadata": {},
          "execution_count": 66
        }
      ]
    },
    {
      "cell_type": "code",
      "source": [
        "# Pass through the pooling layer\n",
        "x = F.max_pool2d(x, 2, 2) # 2- kernel size, 2 - stride"
      ],
      "metadata": {
        "id": "l2_RgHwVsf0p"
      },
      "execution_count": 67,
      "outputs": []
    },
    {
      "cell_type": "code",
      "source": [
        "# 1 - single image, 6 - filered images (featured maps), 13x13 - images size\n",
        "x.shape"
      ],
      "metadata": {
        "colab": {
          "base_uri": "https://localhost:8080/"
        },
        "id": "ZID2cM0btDw3",
        "outputId": "76a6b5e5-2af1-49ce-9853-67557f470262"
      },
      "execution_count": 68,
      "outputs": [
        {
          "output_type": "execute_result",
          "data": {
            "text/plain": [
              "torch.Size([1, 6, 13, 13])"
            ]
          },
          "metadata": {},
          "execution_count": 68
        }
      ]
    },
    {
      "cell_type": "code",
      "source": [
        "# Do our second convolution layer\n",
        "x = F.relu(conv2(x))"
      ],
      "metadata": {
        "id": "sGj8LqMbtZB9"
      },
      "execution_count": 69,
      "outputs": []
    },
    {
      "cell_type": "code",
      "source": [
        "# 1 - single image, 16 - filered images (featured maps), 11x11 - images size\n",
        "x.shape"
      ],
      "metadata": {
        "colab": {
          "base_uri": "https://localhost:8080/"
        },
        "id": "z29n_axOthJj",
        "outputId": "50acaf02-8dee-4e14-868a-27a601a90905"
      },
      "execution_count": 70,
      "outputs": [
        {
          "output_type": "execute_result",
          "data": {
            "text/plain": [
              "torch.Size([1, 16, 11, 11])"
            ]
          },
          "metadata": {},
          "execution_count": 70
        }
      ]
    },
    {
      "cell_type": "code",
      "source": [
        "# Pass through the pooling layer\n",
        "x = F.max_pool2d(x, 2, 2) # 2- kernel size, 2 - stride"
      ],
      "metadata": {
        "id": "BxDiQktJt1rf"
      },
      "execution_count": 71,
      "outputs": []
    },
    {
      "cell_type": "code",
      "source": [
        "# 1 - single image, 16 - filered images (featured maps), 5x5 - images size\n",
        "x.shape"
      ],
      "metadata": {
        "colab": {
          "base_uri": "https://localhost:8080/"
        },
        "id": "RuQTiv1Ft-J3",
        "outputId": "cb53b1aa-788f-4d48-ca01-ca289ac15c84"
      },
      "execution_count": 72,
      "outputs": [
        {
          "output_type": "execute_result",
          "data": {
            "text/plain": [
              "torch.Size([1, 16, 5, 5])"
            ]
          },
          "metadata": {},
          "execution_count": 72
        }
      ]
    },
    {
      "cell_type": "markdown",
      "source": [
        "## **Deep Learning with PyTorch 16**"
      ],
      "metadata": {
        "id": "4tA_FwSTvs24"
      }
    },
    {
      "cell_type": "markdown",
      "source": [
        "**Convolutional Neural Network Mode**l"
      ],
      "metadata": {
        "id": "n_ilKkt_vw-k"
      }
    },
    {
      "cell_type": "code",
      "source": [
        "# Model Class\n",
        "class ConvolutionNetwork(nn.Module):\n",
        "  def __init__(self):\n",
        "    super().__init__()\n",
        "    self.conv1 = nn.Conv2d(1,6,3,1)\n",
        "    self.conv2 = nn.Conv2d(6,16,3,1)\n",
        "\n",
        "    # Fully connected layer\n",
        "    self.fc1 = nn.Linear(5*5*16, 120)\n",
        "    self.fc2 = nn.Linear(120, 84)\n",
        "    self.fc3 = nn.Linear(84, 10)\n",
        "\n",
        "  # Forward function\n",
        "  def forward(self, X):\n",
        "    # First pass\n",
        "    X = F.relu(self.conv1(X))\n",
        "    X = F.max_pool2d(X, 2, 2)\n",
        "    # Second pass\n",
        "    X = F.relu(self.conv2(X))\n",
        "    X = F.max_pool2d(X, 2, 2)\n",
        "\n",
        "    # Re-View to flatter it out\n",
        "    X = X.view(-1, 16*5*5)\n",
        "\n",
        "    # Fully connected layers\n",
        "    X = F.relu(self.fc1(X))\n",
        "    X = F.relu(self.fc2(X))\n",
        "    X = self.fc3(X)\n",
        "\n",
        "    return F.log_softmax(X, dim=1)"
      ],
      "metadata": {
        "id": "ruo6m__xvz3V"
      },
      "execution_count": 75,
      "outputs": []
    },
    {
      "cell_type": "code",
      "source": [
        "# Create an instance of our model\n",
        "torch.manual_seed(41)\n",
        "model = ConvolutionNetwork()\n",
        "model"
      ],
      "metadata": {
        "colab": {
          "base_uri": "https://localhost:8080/"
        },
        "id": "6syUo1gtyas3",
        "outputId": "88430f0a-baba-4da8-a2f1-012c8b6b6f9e"
      },
      "execution_count": 76,
      "outputs": [
        {
          "output_type": "execute_result",
          "data": {
            "text/plain": [
              "ConvolutionNetwork(\n",
              "  (conv1): Conv2d(1, 6, kernel_size=(3, 3), stride=(1, 1))\n",
              "  (conv2): Conv2d(6, 16, kernel_size=(3, 3), stride=(1, 1))\n",
              "  (fc1): Linear(in_features=400, out_features=120, bias=True)\n",
              "  (fc2): Linear(in_features=120, out_features=84, bias=True)\n",
              "  (fc3): Linear(in_features=84, out_features=10, bias=True)\n",
              ")"
            ]
          },
          "metadata": {},
          "execution_count": 76
        }
      ]
    },
    {
      "cell_type": "code",
      "source": [
        "# Loss function optimizer\n",
        "criterion = nn.CrossEntropyLoss()\n",
        "optimizer = torch.optim.Adam(model.parameters(), lr=0.001)"
      ],
      "metadata": {
        "id": "VeGOm8ckytai"
      },
      "execution_count": 77,
      "outputs": []
    }
  ]
}