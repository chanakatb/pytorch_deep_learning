{
  "nbformat": 4,
  "nbformat_minor": 0,
  "metadata": {
    "colab": {
      "provenance": [],
      "gpuType": "T4",
      "authorship_tag": "ABX9TyNovPXwuZh3FaUbw7fwuu1l",
      "include_colab_link": true
    },
    "kernelspec": {
      "name": "python3",
      "display_name": "Python 3"
    },
    "language_info": {
      "name": "python"
    },
    "accelerator": "GPU"
  },
  "cells": [
    {
      "cell_type": "markdown",
      "metadata": {
        "id": "view-in-github",
        "colab_type": "text"
      },
      "source": [
        "<a href=\"https://colab.research.google.com/github/chanakatb/pytorch_deep_learning/blob/main/Create_CNN.ipynb\" target=\"_parent\"><img src=\"https://colab.research.google.com/assets/colab-badge.svg\" alt=\"Open In Colab\"/></a>"
      ]
    },
    {
      "cell_type": "markdown",
      "source": [
        "## **Deep Learning with PyTorch 10**"
      ],
      "metadata": {
        "id": "xGtXh6qCFieS"
      }
    },
    {
      "cell_type": "markdown",
      "source": [
        "**Convolutional Neural Network Intro**"
      ],
      "metadata": {
        "id": "E7T-0rXxFf0a"
      }
    },
    {
      "cell_type": "markdown",
      "source": [
        "*minist dats set*: *https://www.tensorflow.org/datasets/catalog/mnist*\n",
        "\n",
        "Training data set includes 60k images and test data set includes 10k images."
      ],
      "metadata": {
        "id": "nRZ4JRubDbFo"
      }
    },
    {
      "cell_type": "markdown",
      "source": [
        "## **Deep Learning with PyTorch 11**"
      ],
      "metadata": {
        "id": "_iazrJ9YEhJl"
      }
    },
    {
      "cell_type": "markdown",
      "source": [
        "**Image Filter / Image Kernel Overview**"
      ],
      "metadata": {
        "id": "iSmkgc_oEkF9"
      }
    },
    {
      "cell_type": "markdown",
      "source": [
        "*Website for image filters (image Kernels): https://setosa.io/ev/image-kernels/*"
      ],
      "metadata": {
        "id": "RN7JYSboHeAC"
      }
    },
    {
      "cell_type": "markdown",
      "source": [
        "## **Deep Learning with PyTorch 12**"
      ],
      "metadata": {
        "id": "koPgs0NwIbtD"
      }
    },
    {
      "cell_type": "markdown",
      "source": [
        "**Convolutional Layer and RGB**"
      ],
      "metadata": {
        "id": "_9K4Ct2uIgjs"
      }
    },
    {
      "cell_type": "markdown",
      "source": [
        "In CNN, neurons are not fully connected and are locally connected.\n",
        "Pooling layer reduces the number of parameters that need to be trained."
      ],
      "metadata": {
        "id": "mhXaupjbL5J4"
      }
    },
    {
      "cell_type": "markdown",
      "source": [
        "A typical CNN architecture: https://editor.analyticsvidhya.com/uploads/59954intro%20to%20CNN.JPG"
      ],
      "metadata": {
        "id": "GVo9IR7ZItbK"
      }
    },
    {
      "cell_type": "markdown",
      "source": [
        "## **Deep Learning with PyTorch 13**"
      ],
      "metadata": {
        "id": "Lx58ehmpL6-z"
      }
    },
    {
      "cell_type": "markdown",
      "source": [
        "A typical pooling layer: https://media.geeksforgeeks.org/wp-content/uploads/20190721025744/Screenshot-2019-07-21-at-2.57.13-AM.png"
      ],
      "metadata": {
        "id": "j0ugGpZHhsBK"
      }
    },
    {
      "cell_type": "markdown",
      "source": [
        "**Pooling Layer in Convolutional Neural Network**"
      ],
      "metadata": {
        "id": "Fra855vyL9TM"
      }
    },
    {
      "cell_type": "markdown",
      "source": [
        "## **Deep Learning with PyTorch 14**"
      ],
      "metadata": {
        "id": "mi89CZ6VjIOB"
      }
    },
    {
      "cell_type": "markdown",
      "source": [
        "**Import MNIST Images**"
      ],
      "metadata": {
        "id": "gQ3OlZ3tjVc9"
      }
    },
    {
      "cell_type": "code",
      "source": [
        "import torch\n",
        "import torch.nn as nn\n",
        "import torch.nn.functional as F\n",
        "from torch.utils.data import DataLoader\n",
        "from torchvision import datasets, transforms\n",
        "from torchvision.utils import make_grid\n",
        "\n",
        "import numpy as np\n",
        "import pandas as pd\n",
        "from sklearn.metrics import confusion_matrix\n",
        "import matplotlib as plt\n",
        "%matplotlib inline"
      ],
      "metadata": {
        "id": "VoOR3YfPjXI7"
      },
      "execution_count": 21,
      "outputs": []
    },
    {
      "cell_type": "code",
      "source": [
        "# Convert MNIST Image files into a Tensor of 4-dimensions (# of images, Height, Width, Color channels)\n",
        "transform = transforms.ToTensor()"
      ],
      "metadata": {
        "id": "62J4Y5MjmsUc"
      },
      "execution_count": 22,
      "outputs": []
    },
    {
      "cell_type": "code",
      "source": [
        "# Train Data\n",
        "train_data = datasets.MNIST(root='/cnn_data', train=True, download=True, transform=transform)"
      ],
      "metadata": {
        "id": "yNT_iLrEnXvm"
      },
      "execution_count": 23,
      "outputs": []
    },
    {
      "cell_type": "code",
      "source": [
        "# Test Data\n",
        "test_data = datasets.MNIST(root='/cnn_data', train=False, download=True, transform=transform)"
      ],
      "metadata": {
        "id": "IECy74uUn3Np"
      },
      "execution_count": 24,
      "outputs": []
    },
    {
      "cell_type": "code",
      "source": [
        "train_data"
      ],
      "metadata": {
        "colab": {
          "base_uri": "https://localhost:8080/"
        },
        "id": "jFKaFlnTn_GN",
        "outputId": "222ddc6c-ea97-47bb-f09f-a1d30f6a9a2c"
      },
      "execution_count": 25,
      "outputs": [
        {
          "output_type": "execute_result",
          "data": {
            "text/plain": [
              "Dataset MNIST\n",
              "    Number of datapoints: 60000\n",
              "    Root location: /cnn_data\n",
              "    Split: Train\n",
              "    StandardTransform\n",
              "Transform: ToTensor()"
            ]
          },
          "metadata": {},
          "execution_count": 25
        }
      ]
    },
    {
      "cell_type": "code",
      "source": [
        "test_data"
      ],
      "metadata": {
        "colab": {
          "base_uri": "https://localhost:8080/"
        },
        "id": "Hv_EUatCoA5y",
        "outputId": "9262c842-744f-48fd-fd6d-97b38145ae69"
      },
      "execution_count": 26,
      "outputs": [
        {
          "output_type": "execute_result",
          "data": {
            "text/plain": [
              "Dataset MNIST\n",
              "    Number of datapoints: 10000\n",
              "    Root location: /cnn_data\n",
              "    Split: Test\n",
              "    StandardTransform\n",
              "Transform: ToTensor()"
            ]
          },
          "metadata": {},
          "execution_count": 26
        }
      ]
    },
    {
      "cell_type": "markdown",
      "source": [
        "## **Deep Learning with PyTorch 15**"
      ],
      "metadata": {
        "id": "PGXGHphPpDLr"
      }
    },
    {
      "cell_type": "markdown",
      "source": [
        "**Convolutional and Pooling Layers**"
      ],
      "metadata": {
        "id": "UbAfGDFgpObM"
      }
    },
    {
      "cell_type": "code",
      "source": [
        "# Create a small batch size for images ... let's say 10\n",
        "train_loader = DataLoader(train_data, batch_size=10, shuffle=True)\n",
        "test_loader = DataLoader(test_data, batch_size=10, shuffle=False)"
      ],
      "metadata": {
        "id": "lZLUjDr_pC21"
      },
      "execution_count": 36,
      "outputs": []
    },
    {
      "cell_type": "code",
      "source": [
        "# Define our CNN\n",
        "# Describe convolution layer and what it is doing (2 convolution layers)\n",
        "# This is just an example in the next video we will build out actual model\n",
        "conv1 = nn.Conv2d(1, 6, 3, ) # 1- one input image, 6 - filters/ kernels, 3 - filter size/ (kernel size), 1 - stride\n",
        "conv2 = nn.Conv2d(6, 16, 3, )"
      ],
      "metadata": {
        "id": "heN6boSyqBRs"
      },
      "execution_count": 39,
      "outputs": []
    },
    {
      "cell_type": "code",
      "source": [
        "# Grab 1 MNIST image\n",
        "for i, (X_Train, y_train) in enumerate(train_data):\n",
        "  break"
      ],
      "metadata": {
        "id": "e0EZbajerBfS"
      },
      "execution_count": 40,
      "outputs": []
    },
    {
      "cell_type": "code",
      "source": [
        "X_Train.shape"
      ],
      "metadata": {
        "colab": {
          "base_uri": "https://localhost:8080/"
        },
        "id": "nZZezdvvrPBB",
        "outputId": "11d692aa-ff67-471c-83a2-9f8d6416d45c"
      },
      "execution_count": 42,
      "outputs": [
        {
          "output_type": "execute_result",
          "data": {
            "text/plain": [
              "torch.Size([1, 28, 28])"
            ]
          },
          "metadata": {},
          "execution_count": 42
        }
      ]
    },
    {
      "cell_type": "code",
      "source": [
        "x = X_Train.view(1,1,28,28) # 1 -no of batches, 1 - no of images, 28 - height, 28 - width"
      ],
      "metadata": {
        "id": "O7hSVd_WrYW5"
      },
      "execution_count": 43,
      "outputs": []
    },
    {
      "cell_type": "code",
      "source": [
        "# Perform our first convolution\n",
        "x = F.relu(conv1(x)) # Rectified Linear unit for our activation funciton"
      ],
      "metadata": {
        "id": "6HUXQfHyrsbc"
      },
      "execution_count": 44,
      "outputs": []
    },
    {
      "cell_type": "code",
      "source": [
        "# 1 - single image, 6 - filters, 26x26 - images size\n",
        "x.shape"
      ],
      "metadata": {
        "colab": {
          "base_uri": "https://localhost:8080/"
        },
        "id": "0yUL7Nw-r7XC",
        "outputId": "72862974-f64e-4844-caad-f12577d62d7d"
      },
      "execution_count": 45,
      "outputs": [
        {
          "output_type": "execute_result",
          "data": {
            "text/plain": [
              "torch.Size([1, 6, 26, 26])"
            ]
          },
          "metadata": {},
          "execution_count": 45
        }
      ]
    },
    {
      "cell_type": "code",
      "source": [
        "# Pass through the pooling layer\n",
        "x = F.max_pool2d(x, 2, 2) # 2- kernel size, 2 - stride"
      ],
      "metadata": {
        "id": "l2_RgHwVsf0p"
      },
      "execution_count": 46,
      "outputs": []
    },
    {
      "cell_type": "code",
      "source": [
        "# 1 - single image, 6 - filered images (featured maps), 13x13 - images size\n",
        "x.shape"
      ],
      "metadata": {
        "colab": {
          "base_uri": "https://localhost:8080/"
        },
        "id": "ZID2cM0btDw3",
        "outputId": "d13e5101-8210-4d7a-a249-25d209435e0c"
      },
      "execution_count": 48,
      "outputs": [
        {
          "output_type": "execute_result",
          "data": {
            "text/plain": [
              "torch.Size([1, 6, 13, 13])"
            ]
          },
          "metadata": {},
          "execution_count": 48
        }
      ]
    },
    {
      "cell_type": "code",
      "source": [
        "# Do our second convolution layer\n",
        "x = F.relu(conv2(x))"
      ],
      "metadata": {
        "id": "sGj8LqMbtZB9"
      },
      "execution_count": 49,
      "outputs": []
    },
    {
      "cell_type": "code",
      "source": [
        "# 1 - single image, 16 - filered images (featured maps), 11x11 - images size\n",
        "x.shape"
      ],
      "metadata": {
        "colab": {
          "base_uri": "https://localhost:8080/"
        },
        "id": "z29n_axOthJj",
        "outputId": "699c033f-0dec-4ef8-d293-8e8d14580a32"
      },
      "execution_count": 50,
      "outputs": [
        {
          "output_type": "execute_result",
          "data": {
            "text/plain": [
              "torch.Size([1, 16, 11, 11])"
            ]
          },
          "metadata": {},
          "execution_count": 50
        }
      ]
    },
    {
      "cell_type": "code",
      "source": [
        "# Pass through the pooling layer\n",
        "x = F.max_pool2d(x, 2, 2) # 2- kernel size, 2 - stride"
      ],
      "metadata": {
        "id": "BxDiQktJt1rf"
      },
      "execution_count": 51,
      "outputs": []
    },
    {
      "cell_type": "code",
      "source": [
        "# 1 - single image, 16 - filered images (featured maps), 5x5 - images size\n",
        "x.shape"
      ],
      "metadata": {
        "colab": {
          "base_uri": "https://localhost:8080/"
        },
        "id": "RuQTiv1Ft-J3",
        "outputId": "2b3197a1-ed22-4a00-d02e-5382f00867fd"
      },
      "execution_count": 53,
      "outputs": [
        {
          "output_type": "execute_result",
          "data": {
            "text/plain": [
              "torch.Size([1, 16, 5, 5])"
            ]
          },
          "metadata": {},
          "execution_count": 53
        }
      ]
    }
  ]
}